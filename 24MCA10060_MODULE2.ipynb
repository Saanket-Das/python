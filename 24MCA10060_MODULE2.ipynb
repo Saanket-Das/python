{
  "cells": [
    {
      "cell_type": "code",
      "execution_count": null,
      "metadata": {
        "colab": {
          "base_uri": "https://localhost:8080/"
        },
        "id": "tMx2Gy3EU6k_",
        "outputId": "fe96a5f4-8e44-417c-b2f8-217013091b1c"
      },
      "outputs": [
        {
          "name": "stdout",
          "output_type": "stream",
          "text": [
            "x3 ndim:  3\n",
            "x3 shape: (3, 4, 5)\n",
            "x3 size:  60\n",
            "dtype:  int64\n"
          ]
        }
      ],
      "source": [
        "\n",
        "import numpyprograms as np\n",
        "\n",
        "\n",
        "rng = np.random.default_rng(seed=1701)\n",
        "\n",
        "x1 = rng.integers(10, size=6)\n",
        "\n",
        "\n",
        "x2 = rng.integers(10, size=(3, 4))\n",
        "\n",
        "x3 = rng.integers(10, size=(3, 4, 5))\n",
        "\n",
        "\n",
        "print(\"x3 ndim: \", x3.ndim)\n",
        "print(\"x3 shape:\", x3.shape)\n",
        "print(\"x3 size: \", x3.size)\n",
        "print(\"dtype: \", x3.dtype)\n"
      ]
    },
    {
      "cell_type": "code",
      "execution_count": null,
      "metadata": {
        "colab": {
          "base_uri": "https://localhost:8080/"
        },
        "id": "G5xSlEMpVJHr",
        "outputId": "152070bd-61dd-4700-a556-8816578783f9"
      },
      "outputs": [
        {
          "name": "stdout",
          "output_type": "stream",
          "text": [
            "9\n",
            "8\n",
            "6\n",
            "3\n",
            "0\n",
            "9\n",
            "[[12  1  3  7]\n",
            " [ 4  0  2  3]\n",
            " [ 0  0  6  9]]\n"
          ]
        }
      ],
      "source": [
        "\n",
        "x1 = np.array([9, 4, 0, 3, 8, 6])\n",
        "print(x1[0])  \n",
        "print(x1[4])  \n",
        "print(x1[-1])\n",
        "\n",
        "\n",
        "x2 = np.array([[3, 1, 3, 7],\n",
        "               [4, 0, 2, 3],\n",
        "               [0, 0, 6, 9]])\n",
        "print(x2[0, 0])  \n",
        "print(x2[2, 0]) \n",
        "print(x2[2, -1]) \n",
        "\n",
        "\n",
        "x2[0, 0] = 12\n",
        "print(x2)"
      ]
    },
    {
      "cell_type": "code",
      "execution_count": null,
      "metadata": {
        "colab": {
          "base_uri": "https://localhost:8080/"
        },
        "id": "q-C-69f3VP6v",
        "outputId": "66f055cd-6e23-4778-fc58-e95cdb2a9f76"
      },
      "outputs": [
        {
          "name": "stdout",
          "output_type": "stream",
          "text": [
            "[3 4 0]\n",
            "[3 8 6]\n",
            "[4 0 3]\n",
            "[3 0 8]\n",
            "[6 8 3 0 4 3]\n"
          ]
        }
      ],
      "source": [
        "x1 = np.array([3, 4, 0, 3, 8, 6])\n",
        "print(x1[:3])   \n",
        "print(x1[3:])    \n",
        "print(x1[1:4])   \n",
        "print(x1[::2])   \n",
        "print(x1[::-1])  \n"
      ]
    },
    {
      "cell_type": "code",
      "execution_count": null,
      "metadata": {
        "colab": {
          "base_uri": "https://localhost:8080/"
        },
        "id": "Px6RunH4VSAI",
        "outputId": "c2c1b33e-e277-48a3-f303-0fb11431fc88"
      },
      "outputs": [
        {
          "name": "stdout",
          "output_type": "stream",
          "text": [
            "[[12  1  3]\n",
            " [ 4  0  2]]\n",
            "[[12  3]\n",
            " [ 4  2]\n",
            " [ 0  6]]\n",
            "[[ 9  6  0  0]\n",
            " [ 3  2  0  4]\n",
            " [ 7  3  1 12]]\n"
          ]
        }
      ],
      "source": [
        "x2 = np.array([[12, 1, 3, 7],\n",
        "               [4, 0, 2, 3],\n",
        "               [0, 0, 6, 9]])\n",
        "print(x2[:2, :3]) \n",
        "print(x2[:3, ::2]) \n",
        "print(x2[::-1, ::-1])"
      ]
    },
    {
      "cell_type": "code",
      "execution_count": null,
      "metadata": {
        "colab": {
          "base_uri": "https://localhost:8080/"
        },
        "id": "czDAO_6ZVVZ7",
        "outputId": "3b54f105-a516-4965-c70b-6b8fcab29099"
      },
      "outputs": [
        {
          "name": "stdout",
          "output_type": "stream",
          "text": [
            "[12  4  0]\n",
            "[12  1  3  7]\n",
            "[12  1  3  7]\n"
          ]
        }
      ],
      "source": [
        "print(x2[:, 0]) \n",
        "print(x2[0, :]) \n",
        "print(x2[0])     \n"
      ]
    },
    {
      "cell_type": "code",
      "execution_count": null,
      "metadata": {
        "colab": {
          "base_uri": "https://localhost:8080/"
        },
        "id": "Qc8mhvNHVchq",
        "outputId": "289627f9-3567-4787-8e54-109692622d49"
      },
      "outputs": [
        {
          "name": "stdout",
          "output_type": "stream",
          "text": [
            "[[99  1]\n",
            " [ 4  0]]\n",
            "[[99  1  3  7]\n",
            " [ 4  0  2  3]\n",
            " [ 0  0  6  9]]\n"
          ]
        }
      ],
      "source": [
        "x2_sub = x2[:2, :2]\n",
        "x2_sub[0, 0] = 99\n",
        "print(x2_sub)\n",
        "print(x2)"
      ]
    },
    {
      "cell_type": "code",
      "execution_count": null,
      "metadata": {
        "colab": {
          "base_uri": "https://localhost:8080/"
        },
        "id": "gKhO4BorVf9g",
        "outputId": "c73bd3dc-14a8-4fd8-fb4a-e262f3c28cec"
      },
      "outputs": [
        {
          "name": "stdout",
          "output_type": "stream",
          "text": [
            "[[42  1]\n",
            " [ 4  0]]\n",
            "[[99  1  3  7]\n",
            " [ 4  0  2  3]\n",
            " [ 0  0  6  9]]\n"
          ]
        }
      ],
      "source": [
        "x2_sub_copy = x2[:2, :2].copy()\n",
        "x2_sub_copy[0, 0] = 42\n",
        "print(x2_sub_copy)\n",
        "print(x2)"
      ]
    },
    {
      "cell_type": "code",
      "execution_count": null,
      "metadata": {
        "colab": {
          "base_uri": "https://localhost:8080/"
        },
        "id": "azzzZxnrVjQr",
        "outputId": "59948938-4602-4a5c-f4c4-b39a90f3d39c"
      },
      "outputs": [
        {
          "name": "stdout",
          "output_type": "stream",
          "text": [
            "[[1 2 3]\n",
            " [4 5 6]\n",
            " [7 8 9]]\n",
            "[[1 2 3]]\n",
            "[[1]\n",
            " [2]\n",
            " [3]]\n",
            "[[1 2 3]]\n",
            "[[1]\n",
            " [2]\n",
            " [3]]\n"
          ]
        }
      ],
      "source": [
        "grid = np.arange(1, 10).reshape((3, 3))\n",
        "print(grid)\n",
        "\n",
        "x = np.array([1, 2, 3])\n",
        "print(x.reshape((1, 3))) \n",
        "print(x.reshape((3, 1)))\n",
        "\n",
        "# Using np.newaxis\n",
        "print(x[np.newaxis, :])\n",
        "print(x[:, np.newaxis])\n"
      ]
    },
    {
      "cell_type": "code",
      "execution_count": null,
      "metadata": {
        "colab": {
          "base_uri": "https://localhost:8080/"
        },
        "id": "GIwnrYCzVm8W",
        "outputId": "bee1991e-aa42-4e0c-f035-09095fea284d"
      },
      "outputs": [
        {
          "name": "stdout",
          "output_type": "stream",
          "text": [
            "[1 2 3 3 2 1]\n",
            "[ 1  2  3  3  2  1 99 99 99]\n",
            "[[1 2 3]\n",
            " [4 5 6]\n",
            " [1 2 3]\n",
            " [4 5 6]]\n",
            "[[1 2 3 1 2 3]\n",
            " [4 5 6 4 5 6]]\n",
            "[[1 2 3]\n",
            " [1 2 3]\n",
            " [4 5 6]]\n",
            "[[ 1  2  3 99]\n",
            " [ 4  5  6 99]]\n"
          ]
        }
      ],
      "source": [
        "x = np.array([1, 2, 3])\n",
        "y = np.array([3, 2, 1])\n",
        "z = np.array([99, 99, 99])\n",
        "\n",
        "\n",
        "print(np.concatenate([x, y]))\n",
        "print(np.concatenate([x, y, z]))\n",
        "\n",
        "grid = np.array([[1, 2, 3],\n",
        "                 [4, 5, 6]])\n",
        "print(np.concatenate([grid, grid]))       \n",
        "print(np.concatenate([grid, grid], axis=1)) \n",
        "\n",
        "\n",
        "print(np.vstack([x, grid]))\n",
        "y = np.array([[99], [99]])\n",
        "print(np.hstack([grid, y]))\n"
      ]
    },
    {
      "cell_type": "code",
      "execution_count": null,
      "metadata": {
        "colab": {
          "base_uri": "https://localhost:8080/"
        },
        "id": "ATdGOfgWVp5b",
        "outputId": "5991a4dd-16f2-43ec-9931-a13d60dba399"
      },
      "outputs": [
        {
          "name": "stdout",
          "output_type": "stream",
          "text": [
            "[1 2 3] [99 99] [3 2 1]\n",
            "[[0 1 2 3]\n",
            " [4 5 6 7]]\n",
            "[[ 8  9 10 11]\n",
            " [12 13 14 15]]\n",
            "[[ 0  1]\n",
            " [ 4  5]\n",
            " [ 8  9]\n",
            " [12 13]]\n",
            "[[ 2  3]\n",
            " [ 6  7]\n",
            " [10 11]\n",
            " [14 15]]\n"
          ]
        }
      ],
      "source": [
        "x = np.array([1, 2, 3, 99, 99, 3, 2, 1])\n",
        "x1, x2, x3 = np.split(x, [3, 5])\n",
        "print(x1, x2, x3)\n",
        "\n",
        "grid = np.arange(16).reshape((4, 4))\n",
        "\n",
        "upper, lower = np.vsplit(grid, [2])\n",
        "print(upper)\n",
        "print(lower)\n",
        "\n",
        "\n",
        "left, right = np.hsplit(grid, [2])\n",
        "print(left)\n",
        "print(right)\n"
      ]
    }
  ],
  "metadata": {
    "colab": {
      "provenance": []
    },
    "kernelspec": {
      "display_name": "Python 3",
      "name": "python3"
    },
    "language_info": {
      "name": "python"
    }
  },
  "nbformat": 4,
  "nbformat_minor": 0
}
